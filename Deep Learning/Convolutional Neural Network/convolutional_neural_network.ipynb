{
  "nbformat": 4,
  "nbformat_minor": 0,
  "metadata": {
    "colab": {
      "name": "convolutional_neural_network.ipynb",
      "provenance": [],
      "collapsed_sections": []
    },
    "kernelspec": {
      "name": "python3",
      "display_name": "Python 3"
    },
    "accelerator": "GPU"
  },
  "cells": [
    {
      "cell_type": "markdown",
      "metadata": {
        "id": "3DR-eO17geWu"
      },
      "source": [
        "# Convolutional Neural Network"
      ]
    },
    {
      "cell_type": "markdown",
      "metadata": {
        "id": "EMefrVPCg-60"
      },
      "source": [
        "### Importing the libraries"
      ]
    },
    {
      "cell_type": "code",
      "metadata": {
        "id": "sCV30xyVhFbE"
      },
      "source": [
        "import tensorflow as tf\n",
        "from keras.preprocessing.image import ImageDataGenerator"
      ],
      "execution_count": null,
      "outputs": []
    },
    {
      "cell_type": "code",
      "metadata": {
        "colab": {
          "base_uri": "https://localhost:8080/"
        },
        "id": "Kg7PXbMQVDfB",
        "outputId": "38f5499a-7a67-4d73-d8c3-98774ce9c0ee"
      },
      "source": [
        "from google.colab import drive\n",
        "drive.mount('/content/drive')"
      ],
      "execution_count": null,
      "outputs": [
        {
          "output_type": "stream",
          "text": [
            "Mounted at /content/drive\n"
          ],
          "name": "stdout"
        }
      ]
    },
    {
      "cell_type": "code",
      "metadata": {
        "id": "FIleuCAjoFD8",
        "colab": {
          "base_uri": "https://localhost:8080/",
          "height": 35
        },
        "outputId": "30767b93-bc38-42f1-f8ec-6c9f61aaddbf"
      },
      "source": [
        "tf.__version__"
      ],
      "execution_count": null,
      "outputs": [
        {
          "output_type": "execute_result",
          "data": {
            "application/vnd.google.colaboratory.intrinsic+json": {
              "type": "string"
            },
            "text/plain": [
              "'2.5.0'"
            ]
          },
          "metadata": {
            "tags": []
          },
          "execution_count": 3
        }
      ]
    },
    {
      "cell_type": "markdown",
      "metadata": {
        "id": "oxQxCBWyoGPE"
      },
      "source": [
        "## Part 1 - Data Preprocessing"
      ]
    },
    {
      "cell_type": "markdown",
      "metadata": {
        "id": "MvE-heJNo3GG"
      },
      "source": [
        "### Preprocessing the Training set"
      ]
    },
    {
      "cell_type": "code",
      "metadata": {
        "id": "0koUcJMJpEBD",
        "colab": {
          "base_uri": "https://localhost:8080/"
        },
        "outputId": "3cfbe0a3-ee04-4250-c773-7ac5ec0a3c90"
      },
      "source": [
        "train_datagen = ImageDataGenerator(rescale = 1./255,\n",
        "                                   shear_range = 0.2,\n",
        "                                   zoom_range = 0.2,\n",
        "                                   horizontal_flip = True)\n",
        "training_set = train_datagen.flow_from_directory('drive/MyDrive/dataset/horse-or-human/train',\n",
        "                                                 target_size = (64, 64),\n",
        "                                                 batch_size = 32,\n",
        "                                                 class_mode = 'binary')"
      ],
      "execution_count": null,
      "outputs": [
        {
          "output_type": "stream",
          "text": [
            "Found 1027 images belonging to 2 classes.\n"
          ],
          "name": "stdout"
        }
      ]
    },
    {
      "cell_type": "markdown",
      "metadata": {
        "id": "mrCMmGw9pHys"
      },
      "source": [
        "### Preprocessing the Test set"
      ]
    },
    {
      "cell_type": "code",
      "metadata": {
        "id": "SH4WzfOhpKc3",
        "colab": {
          "base_uri": "https://localhost:8080/"
        },
        "outputId": "c3c5a84c-4f4d-4511-a621-92d57850eec4"
      },
      "source": [
        "test_datagen = ImageDataGenerator(rescale = 1./255)\n",
        "test_set = test_datagen.flow_from_directory('drive/MyDrive/dataset/horse-or-human/validation',\n",
        "                                            target_size = (64, 64),\n",
        "                                            batch_size = 32,\n",
        "                                            class_mode = 'binary')"
      ],
      "execution_count": null,
      "outputs": [
        {
          "output_type": "stream",
          "text": [
            "Found 256 images belonging to 2 classes.\n"
          ],
          "name": "stdout"
        }
      ]
    },
    {
      "cell_type": "markdown",
      "metadata": {
        "id": "af8O4l90gk7B"
      },
      "source": [
        "## Part 2 - Building the CNN"
      ]
    },
    {
      "cell_type": "markdown",
      "metadata": {
        "id": "ces1gXY2lmoX"
      },
      "source": [
        "### Initialising the CNN"
      ]
    },
    {
      "cell_type": "code",
      "metadata": {
        "id": "SAUt4UMPlhLS"
      },
      "source": [
        "cnn = tf.keras.models.Sequential()"
      ],
      "execution_count": null,
      "outputs": []
    },
    {
      "cell_type": "markdown",
      "metadata": {
        "id": "u5YJj_XMl5LF"
      },
      "source": [
        "### Step 1 - Convolution"
      ]
    },
    {
      "cell_type": "code",
      "metadata": {
        "id": "XPzPrMckl-hV"
      },
      "source": [
        "cnn.add(tf.keras.layers.Conv2D(filters=32, kernel_size=3, activation='relu', input_shape=[64, 64, 3]))"
      ],
      "execution_count": null,
      "outputs": []
    },
    {
      "cell_type": "markdown",
      "metadata": {
        "id": "tf87FpvxmNOJ"
      },
      "source": [
        "### Step 2 - Pooling"
      ]
    },
    {
      "cell_type": "code",
      "metadata": {
        "id": "ncpqPl69mOac"
      },
      "source": [
        "cnn.add(tf.keras.layers.MaxPool2D(pool_size=2, strides=2))"
      ],
      "execution_count": null,
      "outputs": []
    },
    {
      "cell_type": "markdown",
      "metadata": {
        "id": "xaTOgD8rm4mU"
      },
      "source": [
        "### Adding a second convolutional layer"
      ]
    },
    {
      "cell_type": "code",
      "metadata": {
        "id": "i_-FZjn_m8gk"
      },
      "source": [
        "cnn.add(tf.keras.layers.Conv2D(filters=32, kernel_size=3, activation='relu'))\n",
        "cnn.add(tf.keras.layers.MaxPool2D(pool_size=2, strides=2))"
      ],
      "execution_count": null,
      "outputs": []
    },
    {
      "cell_type": "markdown",
      "metadata": {
        "id": "tmiEuvTunKfk"
      },
      "source": [
        "### Step 3 - Flattening"
      ]
    },
    {
      "cell_type": "code",
      "metadata": {
        "id": "6AZeOGCvnNZn"
      },
      "source": [
        "cnn.add(tf.keras.layers.Flatten())"
      ],
      "execution_count": null,
      "outputs": []
    },
    {
      "cell_type": "markdown",
      "metadata": {
        "id": "dAoSECOm203v"
      },
      "source": [
        "### Step 4 - Full Connection"
      ]
    },
    {
      "cell_type": "code",
      "metadata": {
        "id": "8GtmUlLd26Nq"
      },
      "source": [
        "cnn.add(tf.keras.layers.Dense(units=128, activation='relu'))"
      ],
      "execution_count": null,
      "outputs": []
    },
    {
      "cell_type": "markdown",
      "metadata": {
        "id": "yTldFvbX28Na"
      },
      "source": [
        "### Step 5 - Output Layer"
      ]
    },
    {
      "cell_type": "code",
      "metadata": {
        "id": "1p_Zj1Mc3Ko_"
      },
      "source": [
        "cnn.add(tf.keras.layers.Dense(units=1, activation='sigmoid'))"
      ],
      "execution_count": null,
      "outputs": []
    },
    {
      "cell_type": "markdown",
      "metadata": {
        "id": "D6XkI90snSDl"
      },
      "source": [
        "## Part 3 - Training the CNN"
      ]
    },
    {
      "cell_type": "markdown",
      "metadata": {
        "id": "vfrFQACEnc6i"
      },
      "source": [
        "### Compiling the CNN"
      ]
    },
    {
      "cell_type": "code",
      "metadata": {
        "id": "NALksrNQpUlJ"
      },
      "source": [
        "cnn.compile(optimizer = 'adam', loss = 'binary_crossentropy', metrics = ['accuracy'])"
      ],
      "execution_count": null,
      "outputs": []
    },
    {
      "cell_type": "markdown",
      "metadata": {
        "id": "ehS-v3MIpX2h"
      },
      "source": [
        "### Training the CNN on the Training set and evaluating it on the Test set"
      ]
    },
    {
      "cell_type": "code",
      "metadata": {
        "id": "XUj1W4PJptta",
        "colab": {
          "base_uri": "https://localhost:8080/"
        },
        "outputId": "e8a5cad7-6ebd-4a51-f358-ddca31e5291c"
      },
      "source": [
        "cnn.fit(x = training_set, validation_data = test_set, epochs = 25)"
      ],
      "execution_count": null,
      "outputs": [
        {
          "output_type": "stream",
          "text": [
            "Epoch 1/25\n",
            "33/33 [==============================] - 390s 11s/step - loss: 0.4612 - accuracy: 0.7653 - val_loss: 0.7202 - val_accuracy: 0.7969\n",
            "Epoch 2/25\n",
            "33/33 [==============================] - 8s 248ms/step - loss: 0.1543 - accuracy: 0.9455 - val_loss: 1.4388 - val_accuracy: 0.7695\n",
            "Epoch 3/25\n",
            "33/33 [==============================] - 8s 244ms/step - loss: 0.0924 - accuracy: 0.9698 - val_loss: 2.2291 - val_accuracy: 0.6992\n",
            "Epoch 4/25\n",
            "33/33 [==============================] - 8s 244ms/step - loss: 0.0781 - accuracy: 0.9766 - val_loss: 2.3100 - val_accuracy: 0.7188\n",
            "Epoch 5/25\n",
            "33/33 [==============================] - 8s 246ms/step - loss: 0.0501 - accuracy: 0.9854 - val_loss: 2.4563 - val_accuracy: 0.7617\n",
            "Epoch 6/25\n",
            "33/33 [==============================] - 8s 245ms/step - loss: 0.0394 - accuracy: 0.9854 - val_loss: 2.0893 - val_accuracy: 0.7969\n",
            "Epoch 7/25\n",
            "33/33 [==============================] - 8s 244ms/step - loss: 0.0718 - accuracy: 0.9737 - val_loss: 1.8036 - val_accuracy: 0.7930\n",
            "Epoch 8/25\n",
            "33/33 [==============================] - 8s 242ms/step - loss: 0.0278 - accuracy: 0.9903 - val_loss: 2.8265 - val_accuracy: 0.7461\n",
            "Epoch 9/25\n",
            "33/33 [==============================] - 8s 249ms/step - loss: 0.0679 - accuracy: 0.9786 - val_loss: 2.0497 - val_accuracy: 0.7695\n",
            "Epoch 10/25\n",
            "33/33 [==============================] - 8s 244ms/step - loss: 0.0185 - accuracy: 0.9951 - val_loss: 2.4817 - val_accuracy: 0.7617\n",
            "Epoch 11/25\n",
            "33/33 [==============================] - 8s 242ms/step - loss: 0.0409 - accuracy: 0.9883 - val_loss: 1.4432 - val_accuracy: 0.8359\n",
            "Epoch 12/25\n",
            "33/33 [==============================] - 8s 243ms/step - loss: 0.0227 - accuracy: 0.9922 - val_loss: 2.6626 - val_accuracy: 0.7812\n",
            "Epoch 13/25\n",
            "33/33 [==============================] - 8s 247ms/step - loss: 0.0372 - accuracy: 0.9854 - val_loss: 1.8287 - val_accuracy: 0.8008\n",
            "Epoch 14/25\n",
            "33/33 [==============================] - 8s 243ms/step - loss: 0.0109 - accuracy: 0.9990 - val_loss: 2.9109 - val_accuracy: 0.7656\n",
            "Epoch 15/25\n",
            "33/33 [==============================] - 8s 241ms/step - loss: 0.0166 - accuracy: 0.9922 - val_loss: 2.5502 - val_accuracy: 0.7930\n",
            "Epoch 16/25\n",
            "33/33 [==============================] - 8s 241ms/step - loss: 0.0141 - accuracy: 0.9961 - val_loss: 2.5785 - val_accuracy: 0.7773\n",
            "Epoch 17/25\n",
            "33/33 [==============================] - 8s 243ms/step - loss: 0.0084 - accuracy: 0.9971 - val_loss: 2.5137 - val_accuracy: 0.8047\n",
            "Epoch 18/25\n",
            "33/33 [==============================] - 8s 245ms/step - loss: 0.0075 - accuracy: 0.9981 - val_loss: 2.8451 - val_accuracy: 0.7852\n",
            "Epoch 19/25\n",
            "33/33 [==============================] - 8s 240ms/step - loss: 0.0044 - accuracy: 0.9990 - val_loss: 2.8121 - val_accuracy: 0.7852\n",
            "Epoch 20/25\n",
            "33/33 [==============================] - 8s 239ms/step - loss: 0.0149 - accuracy: 0.9971 - val_loss: 4.1595 - val_accuracy: 0.7227\n",
            "Epoch 21/25\n",
            "33/33 [==============================] - 8s 240ms/step - loss: 0.0268 - accuracy: 0.9903 - val_loss: 3.4216 - val_accuracy: 0.7422\n",
            "Epoch 22/25\n",
            "33/33 [==============================] - 8s 244ms/step - loss: 0.0215 - accuracy: 0.9932 - val_loss: 2.7778 - val_accuracy: 0.7695\n",
            "Epoch 23/25\n",
            "33/33 [==============================] - 8s 242ms/step - loss: 0.0111 - accuracy: 0.9951 - val_loss: 2.4867 - val_accuracy: 0.7734\n",
            "Epoch 24/25\n",
            "33/33 [==============================] - 8s 239ms/step - loss: 0.0163 - accuracy: 0.9942 - val_loss: 3.3865 - val_accuracy: 0.7617\n",
            "Epoch 25/25\n",
            "33/33 [==============================] - 8s 243ms/step - loss: 0.0127 - accuracy: 0.9971 - val_loss: 2.2691 - val_accuracy: 0.8008\n"
          ],
          "name": "stdout"
        },
        {
          "output_type": "execute_result",
          "data": {
            "text/plain": [
              "<tensorflow.python.keras.callbacks.History at 0x7f9dce0bc710>"
            ]
          },
          "metadata": {
            "tags": []
          },
          "execution_count": 14
        }
      ]
    },
    {
      "cell_type": "markdown",
      "metadata": {
        "id": "U3PZasO0006Z"
      },
      "source": [
        "## Part 4 - Making a single prediction"
      ]
    },
    {
      "cell_type": "code",
      "metadata": {
        "id": "gsSiWEJY1BPB"
      },
      "source": [
        "import numpy as np\n",
        "from keras.preprocessing import image\n",
        "test_image = image.load_img('drive/MyDrive/dataset/horse-or-human/horse2.jpg', target_size = (64, 64))\n",
        "test_image = image.img_to_array(test_image)\n",
        "test_image = np.expand_dims(test_image, axis = 0)\n",
        "result = cnn.predict(test_image)\n",
        "training_set.class_indices\n",
        "if result[0][0] == 1:\n",
        "  prediction = 'horse'\n",
        "else:\n",
        "  prediction = 'human'"
      ],
      "execution_count": null,
      "outputs": []
    },
    {
      "cell_type": "code",
      "metadata": {
        "id": "ED9KB3I54c1i",
        "colab": {
          "base_uri": "https://localhost:8080/"
        },
        "outputId": "eca03b01-844e-41dd-dd64-1a8e99040c39"
      },
      "source": [
        "print(prediction)"
      ],
      "execution_count": null,
      "outputs": [
        {
          "output_type": "stream",
          "text": [
            "horse\n"
          ],
          "name": "stdout"
        }
      ]
    }
  ]
}